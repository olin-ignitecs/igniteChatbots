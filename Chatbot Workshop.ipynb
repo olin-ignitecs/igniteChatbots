{
 "cells": [
  {
   "cell_type": "markdown",
   "metadata": {},
   "source": [
    "# Make your own chatbot!"
   ]
  },
  {
   "cell_type": "markdown",
   "metadata": {},
   "source": [
    "Click on the box of code below to select it.\n",
    "Once it is selected, click \"Run\" to run it and start the example bot!"
   ]
  },
  {
   "cell_type": "code",
   "execution_count": null,
   "metadata": {},
   "outputs": [],
   "source": [
    "# RUN THIS FIRST\n",
    "\n",
    "import random"
   ]
  },
  {
   "cell_type": "markdown",
   "metadata": {},
   "source": [
    "### Example: A bot that just wants you to say hi"
   ]
  },
  {
   "cell_type": "code",
   "execution_count": null,
   "metadata": {},
   "outputs": [],
   "source": [
    "greetings = [\"hi\",\"hello\", \"what's up\", \"yo\", \"hey\"]\n",
    "user_input = input('type your message in this box:')\n",
    "\n",
    "while user_input.lower() not in greetings:\n",
    "    print(\"why don't you try saying hi first\")\n",
    "    user_input = input()\n",
    "    \n",
    "print('Hi, what is your name?')\n",
    "name = input()\n",
    "greeting = random.choice(greetings)\n",
    "print(greeting,name)\n",
    "\n"
   ]
  },
  {
   "cell_type": "markdown",
   "metadata": {},
   "source": [
    " "
   ]
  },
  {
   "cell_type": "markdown",
   "metadata": {},
   "source": [
    "### CHALLENGE: Make an answer checker"
   ]
  },
  {
   "cell_type": "markdown",
   "metadata": {},
   "source": [
    "To complete this step you need to use an if statement. To understand how if statements work in Python, let’s take a look at an example. Say you’re teaching a child how to add and you write a program to help practice: \n",
    "\n",
    "```python\n",
    "answer = input(\"What is 15+3? \")\n",
    "\n",
    "if (answer == \"18\"):\n",
    "    print(\"Good job. You got it right!\")\n",
    "else:\n",
    "    print(\"Sorry, that's not correct\")\n",
    "```\n",
    "\n",
    "Can you guess what this program does? \n",
    "\n",
    "In the block below, write your own code to ask a question and tell you if your answer is right or wrong.\n",
    "\n",
    "Be careful to add blank spaces before every line of code inside the if statement (in this case, before both the print statements). \n"
   ]
  },
  {
   "cell_type": "code",
   "execution_count": null,
   "metadata": {},
   "outputs": [],
   "source": [
    "# Todo: Use an if statement to complete your password checker.\n"
   ]
  },
  {
   "cell_type": "markdown",
   "metadata": {},
   "source": [
    " "
   ]
  },
  {
   "cell_type": "markdown",
   "metadata": {},
   "source": [
    "### CHALLENGE: Make a bot that tells a joke when you ask it to"
   ]
  },
  {
   "cell_type": "code",
   "execution_count": null,
   "metadata": {},
   "outputs": [],
   "source": [
    "jokeTold = False\n",
    "while jokeTold == False:\n",
    "    user_input = input()\n",
    "    if 'joke' in user_input:\n",
    "        # Tell joke here!\n",
    "        # ADVANCED: choose a joke from a list of jokes (like in the greetings example)\n",
    "        # so there can be a new joke every time!\n",
    "    \n",
    "        jokeTold = True\n",
    "\n",
    "print(\"Aren't I funny?\")"
   ]
  },
  {
   "cell_type": "markdown",
   "metadata": {},
   "source": [
    "### Example: A bot that loves to talk about Paul Revere"
   ]
  },
  {
   "cell_type": "markdown",
   "metadata": {},
   "source": [
    "Source: https://www.paulreverehouse.org/the-real-story/\n",
    "\n",
    "In 1774 and the spring of 1775 Paul Revere was employed by the Boston Committee of Correspondence and the Massachusetts Committee of Safety as an express rider to carry news, messages, and copies of important documents as far away as New York and Philadelphia.\n",
    "\n",
    "On the evening of April 18, 1775, Paul Revere was summoned by Dr. Joseph Warren of Boston and given the task of riding to Lexington, Massachusetts, with the news that regular troops were about to march into the countryside northwest of Boston. According to Warren, these troops planned to arrest Samuel Adams and John Hancock, who were staying at a house in Lexington, and probably continue on to the town of Concord, to capture or destroy military stores — gunpowder, ammunition, and several cannon — that had been stockpiled there (in fact, the British troops had no orders to arrest anyone — Dr. Warren’s intelligence on this point was faulty). Revere contacted an unidentified friend (probably Robert Newman, the sexton of Christ Church in Boston’s North End) and instructed him to show two lanterns in the tower of Christ Church (now called the Old North Church).\n",
    "\n",
    "Revere then stopped by his own house to pick up his boots and overcoat, and proceeded the short distance to Boston’s North End waterfront where two friends waited to row him across the river to Charlestown. Slipping past a British warship in the darkness, Revere landed safely. After informing Colonel Conant and other local Sons of Liberty about recent events in Boston and verifying that they had seen his signals in the North Church tower, Revere borrowed a horse from John Larkin, a Charlestown merchant and a patriot sympathizer. While the horse was being made ready, a member of the Committee of Safety named Richard Devens warned Revere that there were a number of British officers in the area who might try to intercept him. About eleven o’clock Revere set off. After narrowly avoiding capture just outside of Charlestown, Revere changed his planned route and rode through Medford, where he alarmed Isaac Hall, the captain of the local militia. He then alarmed almost all the houses from Medford, through Menotomy (today’s Arlington) — carefully avoiding the Royall Mansion whose property he rode through (Isaac Royall was a well-known Loyalist) — and arrived in Lexington sometime after midnight.\n",
    "\n",
    "In Lexington, as he approached the house where Adams and Hancock were staying, a Sergeant Monroe, acting as a guard outside the house, requested that he not make so much noise. “Noise!” cried Revere, “You’ll have noise enough before long. The regulars are coming out!” At this point, Revere still had difficulty gaining entry until, according to tradition, John Hancock, who was still awake, heard his voice and said “Come in, Revere! We’re not afraid of you” and he was allowed to enter the house and deliver his message.\n",
    "\n",
    "About half past twelve, William Dawes arrived in Lexington carrying the same message as Revere. After both men had “refreshed themselves” (gotten something to eat and drink) they decided to continue on to Concord, Massachusetts to verify that the military stores had been properly dispersed and hidden away. A short distance outside of Lexington, they were over-taken by Dr. Samuel Prescott, who they determined was a fellow “high Son of Liberty.” A short time later, a British patrol intercepted all three men. Prescott and Dawes escaped; Revere was held for some time, questioned, and let go. Before he was released, however, his horse was confiscated to replace the tired mount of a British sergeant. Left alone on the road, Revere returned to Lexington on foot in time to witness the latter part of the battle on Lexington Green."
   ]
  },
  {
   "cell_type": "code",
   "execution_count": null,
   "metadata": {},
   "outputs": [],
   "source": [
    "# The above story of Paul Revere has been sliced into individual elements of a python list by paragraphs\n",
    "paulRevere=[\"In 1774 and the spring of 1775 Paul Revere was employed by the Boston Committee of Correspondence and the Massachusetts Committee of Safety as an express rider to carry news, messages, and copies of important documents as far away as New York and Philadelphia.\", \"On the evening of April 18, 1775, Paul Revere was summoned by Dr. Joseph Warren of Boston and given the task of riding to Lexington, Massachusetts, with the news that regular troops were about to march into the countryside northwest of Boston. According to Warren, these troops planned to arrest Samuel Adams and John Hancock, who were staying at a house in Lexington, and probably continue on to the town of Concord, to capture or destroy military stores — gunpowder, ammunition, and several cannon — that had been stockpiled there (in fact, the British troops had no orders to arrest anyone — Dr. Warren’s intelligence on this point was faulty). Revere contacted an unidentified friend (probably Robert Newman, the sexton of Christ Church in Boston’s North End) and instructed him to show two lanterns in the tower of Christ Church (now called the Old North Church) as a signal in case Revere was unable to leave town. The two lanterns meant that the British troops planned to row “by sea” across the Charles River to Cambridge, rather than march “by land” out Boston Neck.\", \"Revere then stopped by his own house to pick up his boots and overcoat, and proceeded the short distance to Boston’s North End waterfront where two friends waited to row him across the river to Charlestown. Slipping past a British warship in the darkness, Revere landed safely. After informing Colonel Conant and other local Sons of Liberty about recent events in Boston and verifying that they had seen his signals in the North Church tower, Revere borrowed a horse from John Larkin, a Charlestown merchant and a patriot sympathizer. While the horse was being made ready, a member of the Committee of Safety named Richard Devens warned Revere that there were a number of British officers in the area who might try to intercept him. About eleven o’clock Revere set off. After narrowly avoiding capture just outside of Charlestown, Revere changed his planned route and rode through Medford, where he alarmed Isaac Hall, the captain of the local militia. He then alarmed almost all the houses from Medford, through Menotomy (today’s Arlington) — carefully avoiding the Royall Mansion whose property he rode through (Isaac Royall was a well-known Loyalist) — and arrived in Lexington sometime after midnight.\", \"In Lexington, as he approached the house where Adams and Hancock were staying, a Sergeant Monroe, acting as a guard outside the house, requested that he not make so much noise. “Noise!” cried Revere, “You’ll have noise enough before long. The regulars are coming out!” At this point, Revere still had difficulty gaining entry until, according to tradition, John Hancock, who was still awake, heard his voice and said “Come in, Revere! We’re not afraid of you” and he was allowed to enter the house and deliver his message.\", \"About half past twelve, William Dawes arrived in Lexington carrying the same message as Revere. After both men had “refreshed themselves” (gotten something to eat and drink) they decided to continue on to Concord, Massachusetts to verify that the military stores had been properly dispersed and hidden away. A short distance outside of Lexington, they were over-taken by Dr. Samuel Prescott, who they determined was a fellow “high Son of Liberty.” A short time later, a British patrol intercepted all three men. Prescott and Dawes escaped; Revere was held for some time, questioned, and let go. Before he was released, however, his horse was confiscated to replace the tired mount of a British sergeant. Left alone on the road, Revere returned to Lexington on foot in time to witness the latter part of the battle on Lexington Green.\"]"
   ]
  },
  {
   "cell_type": "code",
   "execution_count": null,
   "metadata": {},
   "outputs": [],
   "source": [
    "story_index = 0\n",
    "tellStory = False\n",
    "\n",
    "yes_responses = ['yes', 'yeah', 'sure', 'ok', 'yep', 'ya']\n",
    "no_responses = ['no', 'nope', 'please stop']\n",
    "\n",
    "user_input = input('Would you like to hear the story of Paul Revere?')\n",
    "\n",
    "for yes in yes_responses:\n",
    "    if yes in user_input.lower():\n",
    "        tellStory = True\n",
    "        \n",
    "if tellStory:\n",
    "    print(paulRevere[story_index])\n",
    "    story_index += 1\n",
    "else:\n",
    "    print(\"you're no fun :( \")"
   ]
  },
  {
   "cell_type": "code",
   "execution_count": null,
   "metadata": {},
   "outputs": [],
   "source": [
    "while tellStory:\n",
    "    print(paulRevere[story_index])\n",
    "    story_index += 1    \n",
    "    if story_index == len(paulRevere):\n",
    "        print(\"The end!\")\n",
    "        tellStory = False\n",
    "    \n",
    "    # check if input asks to have the story furthur told; if so,\n",
    "    # tell the story by breaking out the loop; otherwise,\n",
    "    # guide the user back to the story telling\n",
    "    for no in no_responses:\n",
    "        if no in user_input.lower():\n",
    "            tellStory = False\n",
    "            print(\"\")\n",
    "            print (\"Aww ok..\")\n",
    "            break\n",
    "            \n",
    "    # generic input prompt\n",
    "    if story_index < len(paulRevere):\n",
    "        user_input = input(\"should I continue?\")\n",
    "\n",
    "    \n"
   ]
  },
  {
   "cell_type": "markdown",
   "metadata": {},
   "source": [
    "  "
   ]
  },
  {
   "cell_type": "markdown",
   "metadata": {},
   "source": [
    " ### CHALLENGE - help the Paul Revere bot ask and respond to questions about the story"
   ]
  },
  {
   "cell_type": "code",
   "execution_count": null,
   "metadata": {},
   "outputs": [],
   "source": [
    "conversation = 'happening'\n",
    "while conversation is 'happening':\n",
    "    user_input = input()\n",
    "    \n",
    "    if input is 'what did the laterns mean':\n",
    "        print('')\n",
    "        \n",
    "    elif user_input is 'bye':\n",
    "        conversation = 'over'\n",
    "        \n",
    "    else:\n",
    "        # get the user back on track on story telling\n",
    "        print(\"I don't know what to say\")\n",
    "        \n",
    "          "
   ]
  },
  {
   "cell_type": "markdown",
   "metadata": {},
   "source": [
    "  "
   ]
  },
  {
   "cell_type": "markdown",
   "metadata": {},
   "source": [
    "# MAIN CHALLENGE: Make your own bot that does whatever you want!\n",
    "\n",
    "Try to give it some personality!"
   ]
  },
  {
   "cell_type": "code",
   "execution_count": null,
   "metadata": {},
   "outputs": [],
   "source": [
    "# put your code here :)"
   ]
  }
 ],
 "metadata": {
  "kernelspec": {
   "display_name": "Python 3",
   "language": "python",
   "name": "python3"
  },
  "language_info": {
   "codemirror_mode": {
    "name": "ipython",
    "version": 3
   },
   "file_extension": ".py",
   "mimetype": "text/x-python",
   "name": "python",
   "nbconvert_exporter": "python",
   "pygments_lexer": "ipython3",
   "version": "3.6.4"
  }
 },
 "nbformat": 4,
 "nbformat_minor": 2
}
