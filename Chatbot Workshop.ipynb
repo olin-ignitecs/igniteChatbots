{
 "cells": [
  {
   "cell_type": "markdown",
   "metadata": {},
   "source": [
    "# Make your own <span style=\"color:red\">c</span><span style=\"color:orange\">h</span><span style=\"color:yellow\">a</span><span style=\"color:green\">t</span><span style=\"color:darkgreen\">b</span><span style=\"color:blue\">o</span><span style=\"color:purple\">t</span>"
   ]
  },
  {
   "cell_type": "markdown",
   "metadata": {},
   "source": [
    "<span style=\"color:blue\">__Examples__</span> that show you how to achieve certian functions with code will be in blue.\n",
    "\n",
    "<span style=\"color:red\">__Challenges__</span> that need your input to finish the challenge will be in red"
   ]
  },
  {
   "cell_type": "markdown",
   "metadata": {},
   "source": [
    "Click on the box of code below to select it.\n",
    "Once it is selected, click \"Run\" to run it and start the example bot!"
   ]
  },
  {
   "cell_type": "code",
   "execution_count": null,
   "metadata": {},
   "outputs": [],
   "source": [
    "# RUN THIS FIRST :D\n",
    "\n",
    "import random"
   ]
  },
  {
   "cell_type": "markdown",
   "metadata": {},
   "source": [
    "## <span style=\"color:blue\">_Example_</span>: A bot that just wants you to say hi"
   ]
  },
  {
   "cell_type": "code",
   "execution_count": null,
   "metadata": {},
   "outputs": [],
   "source": [
    "# # # # # # # # # # # # # # # # # # # # # # # # # # # # # # #\n",
    "#  RUN THE FOLLOWING CODE TO SEE HOW A SAMPLE CHATBOT GREET #\n",
    "# # # # # # # # # # # # # # # # # # # # # # # # # # # # # # #\n",
    "\n",
    "# This is our list of geetings that the bot understands\n",
    "# If you want, you can add more to this list. \n",
    "greetings = [\"hi\",\"hello\", \"what's up\", \"yo\", \"hey\"] \n",
    "\n",
    "print('type your message in this box ^')\n",
    "\n",
    "# We set the variable \"said_hi\" to false, because you haven't said hi yet.\n",
    "said_hi = False\n",
    "\n",
    "# The code in this block will repeat over and over again until it is not true\n",
    "# that \"said_hi is FALSE. This means that once it is TRUE that you have said hi,\n",
    "# then this block will stop repeating.\n",
    "while said_hi == False:\n",
    "    user_input = input()\n",
    "    for greeting in greetings:\n",
    "        if greeting in user_input:\n",
    "            said_hi = True\n",
    "    if said_hi == False:       \n",
    "        print(\"why don't you try saying hi first\")\n",
    "\n",
    "# Once you have said hi, the bot will say hi back and ask for your name\n",
    "print('Hi, what is your name?')\n",
    "\n",
    "# The next thing you type will be saved as the variable \"name\"\n",
    "name = input()\n",
    "\n",
    "# A random greeting is chosen\n",
    "greeting = random.choice(greetings)\n",
    "\n",
    "# You are greeted with the chosen greeting and what you said your name was!\n",
    "print(greeting,name)"
   ]
  },
  {
   "cell_type": "markdown",
   "metadata": {},
   "source": [
    " "
   ]
  },
  {
   "cell_type": "markdown",
   "metadata": {},
   "source": [
    "## <span style=\"color:red\">_Challenge_</span>: Make an answer checker"
   ]
  },
  {
   "cell_type": "markdown",
   "metadata": {},
   "source": [
    "To complete this step you need to use an if statement. To understand how if statements work in Python, let’s take a look at an example. Say you’re teaching a child how to add and you write a program to help practice: \n",
    "\n",
    "```python\n",
    "answer = input(\"What is 15+3? \")\n",
    "\n",
    "if (answer == \"18\"):\n",
    "    print(\"Good job. You got it right!\")\n",
    "else:\n",
    "    print(\"Sorry, that's not correct\")\n",
    "```\n",
    "\n",
    "Can you guess what this program does? \n",
    "\n",
    "In the block below, write your own code to ask a question and tell you if your answer is right or wrong.\n",
    "\n",
    "Be careful to add blank spaces before every line of code inside the if statement (in this case, before both the print statements). \n"
   ]
  },
  {
   "cell_type": "code",
   "execution_count": null,
   "metadata": {},
   "outputs": [],
   "source": [
    "# Use an if statement to make a password checker like the example above. \n"
   ]
  },
  {
   "cell_type": "markdown",
   "metadata": {},
   "source": [
    " "
   ]
  },
  {
   "cell_type": "markdown",
   "metadata": {},
   "source": [
    "## <span style=\"color:red\">_Challenge_</span>: Make a bot that tells a joke when you ask it to"
   ]
  },
  {
   "cell_type": "code",
   "execution_count": null,
   "metadata": {},
   "outputs": [],
   "source": [
    "jokeTold = False\n",
    "while jokeTold == False:\n",
    "    user_input = input()\n",
    "    if 'joke' in user_input:\n",
    "        # # # # # # # # # # # # # # # # # # # # # # # # # # #\n",
    "        \"\"\" TODO\n",
    "        Tell joke here!!             \n",
    "        EDIT THIS SO THAT THE BOT CAN ANSWER QUESTIONS!\n",
    "        # Tell joke here!\n",
    "        # ADVANCED: choose a joke from a list of jokes (like in the greetings example)\n",
    "        # so there can be a new joke every time!\"\"\"\n",
    "        # # # # # # # # # # # # # # # # # # # # # # # # # # #\n",
    "    \n",
    "        jokeTold = True\n",
    "\n",
    "print(\"Aren't I funny?\")"
   ]
  },
  {
   "cell_type": "markdown",
   "metadata": {},
   "source": [
    "## <span style=\"color:blue\">_Example_</span>: A bot that loves to talk about Paul Revere\n",
    "\n",
    "This bot has a favorite story it likes to tell.  It will also respond to a few commonly asked questions about the story. "
   ]
  },
  {
   "cell_type": "markdown",
   "metadata": {},
   "source": [
    "You can read the full story here! It might be familiar.  😊    \n",
    "\n",
    "Source: https://www.paulreverehouse.org/the-real-story/\n"
   ]
  },
  {
   "cell_type": "code",
   "execution_count": null,
   "metadata": {},
   "outputs": [],
   "source": [
    "# The above story of Paul Revere has been sliced into individual elements of a python list by paragraphs\n",
    "paulRevere=[\"In 1774 and the spring of 1775 Paul Revere was employed by the Boston Committee of Correspondence and the Massachusetts Committee of Safety as an express rider to carry news, messages, and copies of important documents as far away as New York and Philadelphia.\", \"On the evening of April 18, 1775, Paul Revere was summoned by Dr. Joseph Warren of Boston and given the task of riding to Lexington, Massachusetts, with the news that regular troops were about to march into the countryside northwest of Boston. According to Warren, these troops planned to arrest Samuel Adams and John Hancock, who were staying at a house in Lexington, and probably continue on to the town of Concord, to capture or destroy military stores — gunpowder, ammunition, and several cannon — that had been stockpiled there (in fact, the British troops had no orders to arrest anyone — Dr. Warren’s intelligence on this point was faulty). Revere contacted an unidentified friend (probably Robert Newman, the sexton of Christ Church in Boston’s North End) and instructed him to show two lanterns in the tower of Christ Church (now called the Old North Church) as a signal in case Revere was unable to leave town. The two lanterns meant that the British troops planned to row “by sea” across the Charles River to Cambridge, rather than march “by land” out Boston Neck.\", \"Revere then stopped by his own house to pick up his boots and overcoat, and proceeded the short distance to Boston’s North End waterfront where two friends waited to row him across the river to Charlestown. Slipping past a British warship in the darkness, Revere landed safely. After informing Colonel Conant and other local Sons of Liberty about recent events in Boston and verifying that they had seen his signals in the North Church tower, Revere borrowed a horse from John Larkin, a Charlestown merchant and a patriot sympathizer. While the horse was being made ready, a member of the Committee of Safety named Richard Devens warned Revere that there were a number of British officers in the area who might try to intercept him. About eleven o’clock Revere set off. After narrowly avoiding capture just outside of Charlestown, Revere changed his planned route and rode through Medford, where he alarmed Isaac Hall, the captain of the local militia. He then alarmed almost all the houses from Medford, through Menotomy (today’s Arlington) — carefully avoiding the Royall Mansion whose property he rode through (Isaac Royall was a well-known Loyalist) — and arrived in Lexington sometime after midnight.\", \"In Lexington, as he approached the house where Adams and Hancock were staying, a Sergeant Monroe, acting as a guard outside the house, requested that he not make so much noise. “Noise!” cried Revere, “You’ll have noise enough before long. The regulars are coming out!” At this point, Revere still had difficulty gaining entry until, according to tradition, John Hancock, who was still awake, heard his voice and said “Come in, Revere! We’re not afraid of you” and he was allowed to enter the house and deliver his message.\", \"About half past twelve, William Dawes arrived in Lexington carrying the same message as Revere. After both men had “refreshed themselves” (gotten something to eat and drink) they decided to continue on to Concord, Massachusetts to verify that the military stores had been properly dispersed and hidden away. A short distance outside of Lexington, they were over-taken by Dr. Samuel Prescott, who they determined was a fellow “high Son of Liberty.” A short time later, a British patrol intercepted all three men. Prescott and Dawes escaped; Revere was held for some time, questioned, and let go. Before he was released, however, his horse was confiscated to replace the tired mount of a British sergeant. Left alone on the road, Revere returned to Lexington on foot in time to witness the latter part of the battle on Lexington Green.\"]\n",
    "\n",
    "story_index = 0\n",
    "tellStory = False\n",
    "\n",
    "yes_responses = ['yes', 'yeah', 'sure', 'ok', 'yep', 'ya']\n",
    "no_responses = ['no', 'nope', 'please stop']\n",
    "\n",
    "user_input = input('Would you like to hear the story of Paul Revere?')\n",
    "\n",
    "for yes in yes_responses:\n",
    "    if yes in user_input.lower():\n",
    "        tellStory = True\n",
    "        \n",
    "if tellStory:\n",
    "    print(paulRevere[story_index])\n",
    "    story_index += 1\n",
    "else:\n",
    "    print(\"you're no fun :( \")"
   ]
  },
  {
   "cell_type": "code",
   "execution_count": null,
   "metadata": {},
   "outputs": [],
   "source": [
    "while tellStory:\n",
    "    # generic input prompt\n",
    "    if story_index < len(paulRevere) and tellStory == True:\n",
    "        user_input = input(\"should I continue?\")\n",
    "\n",
    "    \n",
    "    # check if input asks to have the story furthur told; if so,\n",
    "    # tell the story by breaking out the loop; otherwise,\n",
    "    # guide the user back to the story telling\n",
    "    for no in no_responses:\n",
    "        if no in user_input.lower():\n",
    "            tellStory = False\n",
    "            print(\"\")\n",
    "            print (\"Aww ok..\")\n",
    "            break\n",
    "    if tellStory == True:        \n",
    "        print(paulRevere[story_index])\n",
    "        story_index += 1    \n",
    "        if story_index == len(paulRevere):\n",
    "            print(\"The end!\")\n",
    "            tellStory = False"
   ]
  },
  {
   "cell_type": "markdown",
   "metadata": {},
   "source": [
    "  "
   ]
  },
  {
   "cell_type": "markdown",
   "metadata": {},
   "source": [
    "## <span style=\"color:red\">_Challenge_</span> - help the Paul Revere bot ask and respond to questions about the story\n",
    " \n",
    " This bot's code is incomplete! :( \n",
    " \n",
    " Read the code below and try to figure out what is happening!\n",
    " \n",
    " Once you know what is going on, try to fix it so that it can answer the question.\n",
    " \n",
    " **BONUS CHALLENGE:** Add your own questions!"
   ]
  },
  {
   "cell_type": "code",
   "execution_count": null,
   "metadata": {},
   "outputs": [],
   "source": [
    "# # # # # # # # # # # # # # # # # # # # # # # # # # #\n",
    "#  EDIT THIS SO THAT THE BOT CAN ANSWER QUESTIONS!  #\n",
    "# # # # # # # # # # # # # # # # # # # # # # # # # # #\n",
    "\n",
    "conversation = 'happening'\n",
    "while conversation == 'happening':\n",
    "    user_input = input()\n",
    "    \n",
    "    if 'what did the lanterns mean' in user_input:\n",
    "        print('')\n",
    "        conversation = 'over'\n",
    "    elif user_input == 'bye':\n",
    "        conversation = 'over'\n",
    "        \n",
    "    else:\n",
    "        # get the user back on track on story telling\n",
    "        print(\"I don't know what to say\")"
   ]
  },
  {
   "cell_type": "markdown",
   "metadata": {},
   "source": [
    "  "
   ]
  },
  {
   "cell_type": "markdown",
   "metadata": {},
   "source": [
    "# <span style=\"color:red\">_Main Challenges_</span>"
   ]
  },
  {
   "cell_type": "markdown",
   "metadata": {},
   "source": [
    "\n",
    "# Option 1: Make your own bot that does whatever you want!\n",
    "\n",
    "Try to give it some personality!"
   ]
  },
  {
   "cell_type": "code",
   "execution_count": null,
   "metadata": {},
   "outputs": [],
   "source": [
    "# put your code here 😊 "
   ]
  },
  {
   "cell_type": "markdown",
   "metadata": {},
   "source": [
    "\n",
    "# Option 2: Make a text based game\n",
    "\n",
    "Walk us through a story or puzzle through questions, answers, and statements. "
   ]
  },
  {
   "cell_type": "code",
   "execution_count": null,
   "metadata": {},
   "outputs": [],
   "source": [
    "# put your code here 😊 "
   ]
  },
  {
   "cell_type": "code",
   "execution_count": null,
   "metadata": {},
   "outputs": [],
   "source": []
  }
 ],
 "metadata": {
  "kernelspec": {
   "display_name": "Python 3",
   "language": "python",
   "name": "python3"
  },
  "language_info": {
   "codemirror_mode": {
    "name": "ipython",
    "version": 3
   },
   "file_extension": ".py",
   "mimetype": "text/x-python",
   "name": "python",
   "nbconvert_exporter": "python",
   "pygments_lexer": "ipython3",
   "version": "3.6.3"
  }
 },
 "nbformat": 4,
 "nbformat_minor": 2
}
