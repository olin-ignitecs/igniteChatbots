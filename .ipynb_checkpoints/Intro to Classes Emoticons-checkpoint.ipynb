{
 "cells": [
  {
   "cell_type": "markdown",
   "metadata": {},
   "source": [
    "## What is a library?\n",
    "#### A library includes resources, including numbers, texts, and functions, which you can reuse in another program\n",
    "\n",
    "## How to import a libray:\n",
    "#### 1. For importing one whole libray, just do:  `import` *the_name_of_the_library*\n",
    "#### 2. For importing a certain class of a library, use:  `from` *the_name_of_the_library* `import` *the_name_of_the_class*"
   ]
  },
  {
   "cell_type": "code",
   "execution_count": 33,
   "metadata": {},
   "outputs": [],
   "source": [
    "# How to import a libray:\n",
    "# 1. For importing one whole libray, just do `im\n",
    "# \n",
    "from nltk.sentiment.vader import SentimentIntensityAnalyzer\n",
    "import random"
   ]
  },
  {
   "cell_type": "code",
   "execution_count": 3,
   "metadata": {},
   "outputs": [],
   "source": [
    "analyzer = SentimentIntensityAnalyzer()"
   ]
  },
  {
   "cell_type": "markdown",
   "metadata": {},
   "source": [
    "#### The SentimentIntensityAnalyzer class is built to give ratings for a text string in terms of its sentiments. The three important categories we \n",
    "#### will be looking at with the polarity_scores function are \"neg\" for \"negative\", \"neu\" for \"neutral\", and \"pos\" for \"positive\". "
   ]
  },
  {
   "cell_type": "code",
   "execution_count": 32,
   "metadata": {},
   "outputs": [
    {
     "data": {
      "text/plain": [
       "{'compound': 0.0, 'neg': 0.0, 'neu': 1.0, 'pos': 0.0}"
      ]
     },
     "execution_count": 32,
     "metadata": {},
     "output_type": "execute_result"
    }
   ],
   "source": [
    "analyzer.polarity_scores(':-]')"
   ]
  },
  {
   "cell_type": "code",
   "execution_count": 34,
   "metadata": {},
   "outputs": [],
   "source": [
    "class emoticons():\n",
    "    def __init__(self, *emoticons):\n",
    "        global analyzer\n",
    "        \n",
    "        # Initiate a collection of positive, negative, and neutral emoticons\n",
    "        self.posEmo = []\n",
    "        self.negEmo = []\n",
    "        self.neuEmo = []\n",
    "        \n",
    "        # Categorize the input emoticons into the positive, negative, and neutral\n",
    "        # Loop through each \n",
    "        for emoticon in emoticons:\n",
    "            temp = analyzer.polarity_scores(emoticon)\n",
    "            if temp['pos'] > temp['neg']:\n",
    "                self.posEmo.append(emoticon)\n",
    "            elif temp['pos'] < temp['neg']:\n",
    "                self.negEmo.append(emoticon)\n",
    "            else:\n",
    "                self.neuEmo.append(emoticon)\n",
    "                \n",
    "    def __string__(self):\n",
    "        \"\"\"Return the three categories of the emoticons\"\"\"\n",
    "        return self.posEmo, self.negEmo, self.neuEmo\n",
    "                \n",
    "    def add_new_emoticon(self, *emoticons):\n",
    "        \"\"\" A function where you pass in emoticons and have it categorized\n",
    "        into the positive, negative and neutral\n",
    "        \"\"\"\n",
    "        for emoticon in emoticons:\n",
    "            temp = analyzer.polarity_scores(emoticon)\n",
    "            if temp['pos'] > temp['neg']:\n",
    "                self.posEmo.append(emoticon)\n",
    "            elif temp['pos'] < temp['neg']:\n",
    "                self.negEmo.append(emoticon)\n",
    "            else:\n",
    "                self.neuEmo.append(emoticon)\n",
    "        \n",
    "    def add_new_positive(self, *pos_emoticons):\n",
    "        \"\"\" A function where you pass in positive emoticons and for sure add\n",
    "        them to the positive category.\n",
    "        \"\"\"\n",
    "        for emoticon in emoticons:\n",
    "            self.posEmo.append(emoticon)\n",
    "        \n",
    "    \n",
    "    def emoticon_in_sentence(self, aString):\n",
    "        \"\"\" A function where you pass in a response the computer will give, and\n",
    "        the function will evaluate the sentiment of the response and attach an\n",
    "        appropriate emoticon to the end of the sentence.\n",
    "        \"\"\"\n",
    "        temp = analyzer.polarity_scores(aString)\n",
    "        if temp['pos'] > temp['neu'] and temp['pos'] > temp['neg']:\n",
    "            return aString + ' ' + str(random.choice(self.posEmo))\n",
    "        elif temp['neg'] > temp['pos'] and temp['neg'] > temp['neu']:\n",
    "            return aString + ' ' + random.choice(self.negEmo)\n",
    "        elif temp['neu'] > temp['pos'] and temp['neu'] > temp['neg']:\n",
    "            return aString + ' ' + random.choice(self.neuEmo)"
   ]
  },
  {
   "cell_type": "code",
   "execution_count": null,
   "metadata": {},
   "outputs": [],
   "source": []
  }
 ],
 "metadata": {
  "kernelspec": {
   "display_name": "Python 3",
   "language": "python",
   "name": "python3"
  },
  "language_info": {
   "codemirror_mode": {
    "name": "ipython",
    "version": 3
   },
   "file_extension": ".py",
   "mimetype": "text/x-python",
   "name": "python",
   "nbconvert_exporter": "python",
   "pygments_lexer": "ipython3",
   "version": "3.6.3"
  }
 },
 "nbformat": 4,
 "nbformat_minor": 2
}
