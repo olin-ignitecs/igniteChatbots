{
 "cells": [
  {
   "cell_type": "code",
   "execution_count": null,
   "metadata": {},
   "outputs": [],
   "source": [
    "https://repl.it/repls/PessimisticTurboMedia\n",
    "\n",
    "greetings = [\"hi\",\"hello\", \"what's up\", \"yo\", \"hey\"]\n",
    "\n",
    "user_input = input()\n",
    "\n",
    "while user_input.lower() not in greetings:\n",
    " user_input = input()\n",
    " print(\"why don't you try saying hi first\")\n",
    "\n",
    "print('Hi, what is your name?')\n",
    "name = input()\n",
    "\n",
    "print('Hello, ', name)\n",
    "\n",
    "\n",
    "# Script: let's walk through a simple example. \n",
    "# This program wants you to say hello to it, and once you do, it will ask you what your name is\n",
    "# and then say hello back!\n",
    "\n",
    "# The first line where you see \"greetings\" sets up a list of phrases that the \n",
    "# program will interpret as a greeting or saying hello \n",
    "\n",
    "# the line that says user_input = input() is where the prgram is waiting to see what you \n",
    "# type on the right hand side. \n",
    "\n",
    "# In this loop, the program checks whether the last thing you typed was one of the \n",
    "# greetings phrases. If it is not, it waits for a new input. If you still haven't \n",
    "# typed in one of the greetings, it asks you to say hi.\n",
    "# This loop will repeat over and over until the CONDITION (user_input not in greetings) is \n",
    "# no longer true.  This means that once the thing you type is \"hi\" it will move on to the next\n",
    "# line in the program\n",
    "\n",
    "# Here, that line is asking what your name is.  \n",
    "# Once you tell it your name, it saves it as the variable \"name\"\n",
    "# Variables are basically names used to reference pieces of information. \n",
    "# You can assig the same information to a different name, or mean that name mean something else\n",
    "# at any time.\n",
    "\n",
    "# On the last line at the end, the program will say hello back to you once you have\n",
    "# told it what your name is. "
   ]
  },
  {
   "cell_type": "markdown",
   "metadata": {},
   "source": [
    "## The story of Paul Revere's Ride"
   ]
  },
  {
   "cell_type": "markdown",
   "metadata": {},
   "source": [
    "Source: https://www.paulreverehouse.org/the-real-story/\n",
    "\n",
    "In 1774 and the spring of 1775 Paul Revere was employed by the Boston Committee of Correspondence and the Massachusetts Committee of Safety as an express rider to carry news, messages, and copies of important documents as far away as New York and Philadelphia.\n",
    "\n",
    "On the evening of April 18, 1775, Paul Revere was summoned by Dr. Joseph Warren of Boston and given the task of riding to Lexington, Massachusetts, with the news that regular troops were about to march into the countryside northwest of Boston. According to Warren, these troops planned to arrest Samuel Adams and John Hancock, who were staying at a house in Lexington, and probably continue on to the town of Concord, to capture or destroy military stores — gunpowder, ammunition, and several cannon — that had been stockpiled there (in fact, the British troops had no orders to arrest anyone — Dr. Warren’s intelligence on this point was faulty). Revere contacted an unidentified friend (probably Robert Newman, the sexton of Christ Church in Boston’s North End) and instructed him to show two lanterns in the tower of Christ Church (now called the Old North Church).\n",
    "\n",
    "Revere then stopped by his own house to pick up his boots and overcoat, and proceeded the short distance to Boston’s North End waterfront where two friends waited to row him across the river to Charlestown. Slipping past a British warship in the darkness, Revere landed safely. After informing Colonel Conant and other local Sons of Liberty about recent events in Boston and verifying that they had seen his signals in the North Church tower, Revere borrowed a horse from John Larkin, a Charlestown merchant and a patriot sympathizer. While the horse was being made ready, a member of the Committee of Safety named Richard Devens warned Revere that there were a number of British officers in the area who might try to intercept him. About eleven o’clock Revere set off. After narrowly avoiding capture just outside of Charlestown, Revere changed his planned route and rode through Medford, where he alarmed Isaac Hall, the captain of the local militia. He then alarmed almost all the houses from Medford, through Menotomy (today’s Arlington) — carefully avoiding the Royall Mansion whose property he rode through (Isaac Royall was a well-known Loyalist) — and arrived in Lexington sometime after midnight.\n",
    "\n",
    "In Lexington, as he approached the house where Adams and Hancock were staying, a Sergeant Monroe, acting as a guard outside the house, requested that he not make so much noise. “Noise!” cried Revere, “You’ll have noise enough before long. The regulars are coming out!” At this point, Revere still had difficulty gaining entry until, according to tradition, John Hancock, who was still awake, heard his voice and said “Come in, Revere! We’re not afraid of you” and he was allowed to enter the house and deliver his message.\n",
    "\n",
    "About half past twelve, William Dawes arrived in Lexington carrying the same message as Revere. After both men had “refreshed themselves” (gotten something to eat and drink) they decided to continue on to Concord, Massachusetts to verify that the military stores had been properly dispersed and hidden away. A short distance outside of Lexington, they were over-taken by Dr. Samuel Prescott, who they determined was a fellow “high Son of Liberty.” A short time later, a British patrol intercepted all three men. Prescott and Dawes escaped; Revere was held for some time, questioned, and let go. Before he was released, however, his horse was confiscated to replace the tired mount of a British sergeant. Left alone on the road, Revere returned to Lexington on foot in time to witness the latter part of the battle on Lexington Green."
   ]
  },
  {
   "cell_type": "code",
   "execution_count": 49,
   "metadata": {},
   "outputs": [],
   "source": [
    "paulRevere=[\"In 1774 and the spring of 1775 Paul Revere was employed by the Boston Committee of Correspondence and the Massachusetts Committee of Safety as an express rider to carry news, messages, and copies of important documents as far away as New York and Philadelphia.\", \"On the evening of April 18, 1775, Paul Revere was summoned by Dr. Joseph Warren of Boston and given the task of riding to Lexington, Massachusetts, with the news that regular troops were about to march into the countryside northwest of Boston. According to Warren, these troops planned to arrest Samuel Adams and John Hancock, who were staying at a house in Lexington, and probably continue on to the town of Concord, to capture or destroy military stores — gunpowder, ammunition, and several cannon — that had been stockpiled there (in fact, the British troops had no orders to arrest anyone — Dr. Warren’s intelligence on this point was faulty). Revere contacted an unidentified friend (probably Robert Newman, the sexton of Christ Church in Boston’s North End) and instructed him to show two lanterns in the tower of Christ Church (now called the Old North Church) as a signal in case Revere was unable to leave town. The two lanterns meant that the British troops planned to row “by sea” across the Charles River to Cambridge, rather than march “by land” out Boston Neck.\", \"Revere then stopped by his own house to pick up his boots and overcoat, and proceeded the short distance to Boston’s North End waterfront where two friends waited to row him across the river to Charlestown. Slipping past a British warship in the darkness, Revere landed safely. After informing Colonel Conant and other local Sons of Liberty about recent events in Boston and verifying that they had seen his signals in the North Church tower, Revere borrowed a horse from John Larkin, a Charlestown merchant and a patriot sympathizer. While the horse was being made ready, a member of the Committee of Safety named Richard Devens warned Revere that there were a number of British officers in the area who might try to intercept him. About eleven o’clock Revere set off. After narrowly avoiding capture just outside of Charlestown, Revere changed his planned route and rode through Medford, where he alarmed Isaac Hall, the captain of the local militia. He then alarmed almost all the houses from Medford, through Menotomy (today’s Arlington) — carefully avoiding the Royall Mansion whose property he rode through (Isaac Royall was a well-known Loyalist) — and arrived in Lexington sometime after midnight.\", \"In Lexington, as he approached the house where Adams and Hancock were staying, a Sergeant Monroe, acting as a guard outside the house, requested that he not make so much noise. “Noise!” cried Revere, “You’ll have noise enough before long. The regulars are coming out!” At this point, Revere still had difficulty gaining entry until, according to tradition, John Hancock, who was still awake, heard his voice and said “Come in, Revere! We’re not afraid of you” and he was allowed to enter the house and deliver his message.\", \"About half past twelve, William Dawes arrived in Lexington carrying the same message as Revere. After both men had “refreshed themselves” (gotten something to eat and drink) they decided to continue on to Concord, Massachusetts to verify that the military stores had been properly dispersed and hidden away. A short distance outside of Lexington, they were over-taken by Dr. Samuel Prescott, who they determined was a fellow “high Son of Liberty.” A short time later, a British patrol intercepted all three men. Prescott and Dawes escaped; Revere was held for some time, questioned, and let go. Before he was released, however, his horse was confiscated to replace the tired mount of a British sergeant. Left alone on the road, Revere returned to Lexington on foot in time to witness the latter part of the battle on Lexington Green.\"]"
   ]
  },
  {
   "cell_type": "code",
   "execution_count": 50,
   "metadata": {},
   "outputs": [
    {
     "name": "stdout",
     "output_type": "stream",
     "text": [
      "In 1774 and the spring of 1775 Paul Revere was employed by the Boston Committee of Correspondence and the Massachusetts Committee of Safety as an express rider to carry news, messages, and copies of important documents as far away as New York and Philadelphia.\n",
      "\n",
      "On the evening of April 18, 1775, Paul Revere was summoned by Dr. Joseph Warren of Boston and given the task of riding to Lexington, Massachusetts, with the news that regular troops were about to march into the countryside northwest of Boston. According to Warren, these troops planned to arrest Samuel Adams and John Hancock, who were staying at a house in Lexington, and probably continue on to the town of Concord, to capture or destroy military stores — gunpowder, ammunition, and several cannon — that had been stockpiled there (in fact, the British troops had no orders to arrest anyone — Dr. Warren’s intelligence on this point was faulty). Revere contacted an unidentified friend (probably Robert Newman, the sexton of Christ Church in Boston’s North End) and instructed him to show two lanterns in the tower of Christ Church (now called the Old North Church) as a signal in case Revere was unable to leave town. The two lanterns meant that the British troops planned to row “by sea” across the Charles River to Cambridge, rather than march “by land” out Boston Neck.\n",
      "\n",
      "Revere then stopped by his own house to pick up his boots and overcoat, and proceeded the short distance to Boston’s North End waterfront where two friends waited to row him across the river to Charlestown. Slipping past a British warship in the darkness, Revere landed safely. After informing Colonel Conant and other local Sons of Liberty about recent events in Boston and verifying that they had seen his signals in the North Church tower, Revere borrowed a horse from John Larkin, a Charlestown merchant and a patriot sympathizer. While the horse was being made ready, a member of the Committee of Safety named Richard Devens warned Revere that there were a number of British officers in the area who might try to intercept him. About eleven o’clock Revere set off. After narrowly avoiding capture just outside of Charlestown, Revere changed his planned route and rode through Medford, where he alarmed Isaac Hall, the captain of the local militia. He then alarmed almost all the houses from Medford, through Menotomy (today’s Arlington) — carefully avoiding the Royall Mansion whose property he rode through (Isaac Royall was a well-known Loyalist) — and arrived in Lexington sometime after midnight.\n",
      "\n",
      "In Lexington, as he approached the house where Adams and Hancock were staying, a Sergeant Monroe, acting as a guard outside the house, requested that he not make so much noise. “Noise!” cried Revere, “You’ll have noise enough before long. The regulars are coming out!” At this point, Revere still had difficulty gaining entry until, according to tradition, John Hancock, who was still awake, heard his voice and said “Come in, Revere! We’re not afraid of you” and he was allowed to enter the house and deliver his message.\n",
      "\n",
      "About half past twelve, William Dawes arrived in Lexington carrying the same message as Revere. After both men had “refreshed themselves” (gotten something to eat and drink) they decided to continue on to Concord, Massachusetts to verify that the military stores had been properly dispersed and hidden away. A short distance outside of Lexington, they were over-taken by Dr. Samuel Prescott, who they determined was a fellow “high Son of Liberty.” A short time later, a British patrol intercepted all three men. Prescott and Dawes escaped; Revere was held for some time, questioned, and let go. Before he was released, however, his horse was confiscated to replace the tired mount of a British sergeant. Left alone on the road, Revere returned to Lexington on foot in time to witness the latter part of the battle on Lexington Green.\n",
      "\n"
     ]
    }
   ],
   "source": [
    "for i in paulRevere:\n",
    "    print(i, end =\"\\n\\n\")"
   ]
  },
  {
   "cell_type": "code",
   "execution_count": 62,
   "metadata": {},
   "outputs": [
    {
     "name": "stdout",
     "output_type": "stream",
     "text": [
      "Whose story do you want to hear?\n",
      "what about Paul's\n",
      "Which paul?\n",
      "ehh...\n",
      "Do you want to figure out this person' name first?\n",
      "Paul Revere's\n",
      "In 1774 and the spring of 1775 Paul Revere was employed by the Boston Committee of Correspondence and the Massachusetts Committee of Safety as an express rider to carry news, messages, and copies of important documents as far away as New York and Philadelphia.\n"
     ]
    }
   ],
   "source": [
    "story_index = 0\n",
    "\n",
    "# boolean variable allows for unique prompt on the first pass\n",
    "first_pass = True\n",
    "\n",
    "while True:\n",
    "    if first_pass:\n",
    "        # first pass dialogue input prompt\n",
    "        user_input = input('Whose story do you want to hear?\\n')\n",
    "        first_pass = False\n",
    "    else:\n",
    "        # generic dialogue input prompt\n",
    "        user_input = input()\n",
    "    \n",
    "    # if the name of paul revere is specifically mentioned in the input,\n",
    "    # start telling the story of Paul Revere\n",
    "    if 'paul revere' in user_input.lower() or 'revere' in user_input.lower():\n",
    "        break\n",
    "    elif 'paul' in user_input.lower():\n",
    "        print('Which paul?')\n",
    "    else:\n",
    "        print('Do you want to figure out this person\\' name first?')\n",
    "\n",
    "print(paulRevere[story_index])\n",
    "story_index += 1"
   ]
  },
  {
   "cell_type": "code",
   "execution_count": 63,
   "metadata": {},
   "outputs": [
    {
     "name": "stdout",
     "output_type": "stream",
     "text": [
      "huh interesting!\n",
      "hey, let's finish Paul Revere's story first.\n",
      "sure\n",
      "On the evening of April 18, 1775, Paul Revere was summoned by Dr. Joseph Warren of Boston and given the task of riding to Lexington, Massachusetts, with the news that regular troops were about to march into the countryside northwest of Boston. According to Warren, these troops planned to arrest Samuel Adams and John Hancock, who were staying at a house in Lexington, and probably continue on to the town of Concord, to capture or destroy military stores — gunpowder, ammunition, and several cannon — that had been stockpiled there (in fact, the British troops had no orders to arrest anyone — Dr. Warren’s intelligence on this point was faulty). Revere contacted an unidentified friend (probably Robert Newman, the sexton of Christ Church in Boston’s North End) and instructed him to show two lanterns in the tower of Christ Church (now called the Old North Church) as a signal in case Revere was unable to leave town. The two lanterns meant that the British troops planned to row “by sea” across the Charles River to Cambridge, rather than march “by land” out Boston Neck.\n"
     ]
    }
   ],
   "source": [
    "while True:\n",
    "    \n",
    "    # generic input prompt\n",
    "    user_input = input()\n",
    "\n",
    "    # check if input asks to have the story furthur told; if so,\n",
    "    # tell the story by breaking out the loop; otherwise,\n",
    "    # guide the user back to the story telling\n",
    "    if 'next' in user_input.lower():\n",
    "        break\n",
    "    else:\n",
    "        # get the user back on track on story telling\n",
    "        print(\"hey, let's finish Paul Revere's story first.\")\n",
    "        while True:\n",
    "            confirm = input()\n",
    "            if 'sure' in confirm.lower():\n",
    "                break\n",
    "        break\n",
    "        \n",
    "    # TODO: implement a question and answer for the first paragraph\n",
    "    # inside this second story telling block\n",
    "        \n",
    "print(paulRevere[story_index])\n",
    "story_index += 1"
   ]
  },
  {
   "cell_type": "code",
   "execution_count": 70,
   "metadata": {},
   "outputs": [
    {
     "name": "stdout",
     "output_type": "stream",
     "text": [
      "Do you have any questions?\n",
      "Ideas: what're the two lanterns for? What if there's no lantern?\n",
      "what're the two lanterns for?\n",
      "The two lanterns meant that the British troops planned to row “by sea” across the Charles River to Cambridge, rather than march “by land” out Boston Neck.\n",
      "Anything else?\n",
      "What if there's no lantern?\n",
      "Let's think about this. If Paul Revere was captured by the British soldiers before he could get his word out, the British soldiers would be able to claim all the supplies for the Patriots. Consequently, the lanterns were a signal in case Revere was unable to leave town.\n",
      "Anything else?\n",
      "nope\n",
      "Revere then stopped by his own house to pick up his boots and overcoat, and proceeded the short distance to Boston’s North End waterfront where two friends waited to row him across the river to Charlestown. Slipping past a British warship in the darkness, Revere landed safely. After informing Colonel Conant and other local Sons of Liberty about recent events in Boston and verifying that they had seen his signals in the North Church tower, Revere borrowed a horse from John Larkin, a Charlestown merchant and a patriot sympathizer. While the horse was being made ready, a member of the Committee of Safety named Richard Devens warned Revere that there were a number of British officers in the area who might try to intercept him. About eleven o’clock Revere set off. After narrowly avoiding capture just outside of Charlestown, Revere changed his planned route and rode through Medford, where he alarmed Isaac Hall, the captain of the local militia. He then alarmed almost all the houses from Medford, through Menotomy (today’s Arlington) — carefully avoiding the Royall Mansion whose property he rode through (Isaac Royall was a well-known Loyalist) — and arrived in Lexington sometime after midnight.\n"
     ]
    }
   ],
   "source": [
    "# boolean variable allows for unique prompt on the first pass\n",
    "first_pass=True\n",
    "while True:\n",
    "    \n",
    "    if first_pass:\n",
    "        # first pass dialogue input prompt\n",
    "        user_input = input('Do you have any questions?\\nIdeas: what\\'re the two lanterns for? What if there\\'s no lantern?\\n')\n",
    "        first_pass = False\n",
    "    else:\n",
    "        # generic dialogue input prompt\n",
    "        user_input = input('Anything else?\\n')\n",
    "    if 'two lanterns' in user_input.lower():\n",
    "        # respond to the questions on what's the meaning of the lanterns\n",
    "        print('The two lanterns meant that the British troops planned to row “by sea” across the Charles River to Cambridge, rather than march “by land” out Boston Neck.')\n",
    "    elif 'no lantern' in user_input.lower():\n",
    "        # respond to the questions on why the lanterns were necessary\n",
    "        print('Let\\'s think about this. If Paul Revere was captured by the British soldiers before he could get his word out, the British soldiers would be able to claim all the supplies for the Patriots. Consequently, the lanterns were a signal in case Revere was unable to leave town.')\n",
    "    elif 'nope' in user_input.lower() or 'next' in user_input.lower():\n",
    "        # keep telling the story\n",
    "        break\n",
    "    else:\n",
    "        # get the user back on track on story telling\n",
    "        print(\"hey, let's finish Paul Revere's story first.\")\n",
    "        while True:\n",
    "            confirm = input()\n",
    "            if 'sure' in confirm.lower():\n",
    "                break\n",
    "        break\n",
    "        \n",
    "print(paulRevere[2])\n",
    "story_index += 1"
   ]
  },
  {
   "cell_type": "code",
   "execution_count": null,
   "metadata": {},
   "outputs": [],
   "source": [
    "# boolean variable allows for unique prompt on the first pass\n",
    "first_pass = True\n",
    "\n",
    "while True:\n",
    "    if first_pass:\n",
    "        # first pass dialogue input prompt\n",
    "        # TODO: create a first pass dialogue prompt\n",
    "        first_pass = False\n",
    "    else:\n",
    "        # generic dialogue input prompt\n",
    "        # TODO: create a generic dialogue input prompt\n",
    "    \n",
    "    # create the following conditions to check on:\n",
    "    # 1. a condition to continue telling the story\n",
    "    # 2. at least one condition where users may ask questions and get answers back\n",
    "    if ' ' in user_input.lower():\n",
    "        break\n",
    "    else:\n",
    "        # get the user back on track on story telling\n",
    "        print(\"hey, let's finish Paul Revere's story first.\")\n",
    "        while True:\n",
    "            confirm = input()\n",
    "            if 'sure' in confirm.lower():\n",
    "                break\n",
    "        break\n",
    "          \n",
    "print(paulRevere[story_index])\n",
    "story_index += 1"
   ]
  }
 ],
 "metadata": {
  "kernelspec": {
   "display_name": "Python 3",
   "language": "python",
   "name": "python3"
  },
  "language_info": {
   "codemirror_mode": {
    "name": "ipython",
    "version": 3
   },
   "file_extension": ".py",
   "mimetype": "text/x-python",
   "name": "python",
   "nbconvert_exporter": "python",
   "pygments_lexer": "ipython3",
   "version": "3.6.3"
  }
 },
 "nbformat": 4,
 "nbformat_minor": 2
}
